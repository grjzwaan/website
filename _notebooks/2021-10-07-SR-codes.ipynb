{
 "cells": [
  {
   "cell_type": "markdown",
   "metadata": {
    "collapsed": true
   },
   "source": [
    "# Better QR codes\n",
    "\n",
    "QR codes are quite interesting, but boring to look at. For this reason I introduce SR codes, which stands for Snake Race codes. It improves QR codes on several fronts:\n",
    "\n",
    "* Animation!\n",
    "* Color!\n",
    "* Hardcore. QR codes have error correction. SR codes don't. If you make an error it's game over.\n",
    "* Not quick. Savour the wait before you can scan the code.\n",
    "\n",
    "Developing a scanner app is left as an exercise for the reader :)\n",
    "\n",
    "Seriously: QR codes are seriously interesting. Error correction and packing as much information as you can in a small amount of pixels while keeping it robust is a nice challenge."
   ]
  },
  {
   "cell_type": "markdown",
   "metadata": {},
   "source": [
    "<table>\n",
    "    <tr>\n",
    "        <td> <img src=\"qrcode.png\"/> </td>\n",
    "        <td> &lt; </td>\n",
    "        <td> <img src=\"animation.gif\"/> </td>  \n",
    "    </tr>\n",
    "</table>"
   ]
  },
  {
   "cell_type": "markdown",
   "metadata": {},
   "source": [
    "## Snake Race code implementation"
   ]
  },
  {
   "cell_type": "markdown",
   "metadata": {},
   "source": [
    "Mandantory importing"
   ]
  },
  {
   "cell_type": "code",
   "execution_count": 1,
   "metadata": {},
   "outputs": [],
   "source": [
    "import numpy as np\n",
    "from typing import NamedTuple, Tuple\n",
    "from numpy.random import default_rng\n",
    "from matplotlib import cm\n",
    "from PIL import Image, ImageDraw\n",
    "import numpy as np\n",
    "from typing import NamedTuple, Tuple\n",
    "from numpy.random import default_rng\n",
    "from matplotlib import cm\n",
    "from PIL import Image, ImageDraw"
   ]
  },
  {
   "cell_type": "markdown",
   "metadata": {},
   "source": [
    "Define the turns that the snake can take in terms of a rotation matrix"
   ]
  },
  {
   "cell_type": "code",
   "execution_count": 2,
   "metadata": {},
   "outputs": [],
   "source": [
    "actions = [\n",
    "    # Left\n",
    "    np.array([\n",
    "        [0, 1],\n",
    "        [-1, 0]\n",
    "    ]),\n",
    "    # Straight\n",
    "    np.array([\n",
    "        [1, 0],\n",
    "        [0, 1]\n",
    "    ]),  \n",
    "    # Right\n",
    "    np.array([\n",
    "        [0, -1],\n",
    "        [1, 0]\n",
    "    ])\n",
    "]"
   ]
  },
  {
   "cell_type": "markdown",
   "metadata": {},
   "source": [
    "Define a method to generat the _trails_ of the snakes"
   ]
  },
  {
   "cell_type": "code",
   "execution_count": 3,
   "metadata": {},
   "outputs": [],
   "source": [
    "def generate_trails(size: int, bits):\n",
    "    # Define quarter distance\n",
    "    q = size // 4\n",
    "    \n",
    "    # Define the start positions of all snakes\n",
    "    snakes = [\n",
    "        {\n",
    "            'c': 'Greens', \n",
    "            'position': np.array([q+1, q+1]), \n",
    "            'orientation':  np.array([1, 0]), \n",
    "            'trail': np.full((2*(size+2), 2*(size+2)), 0),\n",
    "            'active': True\n",
    "        },\n",
    "        {\n",
    "            'c': 'Reds', \n",
    "            'position': np.array([3*q+1, 1+1]), \n",
    "            'orientation': np.array([0, 1]), \n",
    "            'trail': np.full((2*(size+2), 2*(size+2)), 0),\n",
    "            'active': True\n",
    "        },\n",
    "        {\n",
    "            'c': 'Blues', \n",
    "            'position': np.array([3*q+1, 3*q+1]), \n",
    "            'orientation': np.array([-1, 0]), \n",
    "            'trail': np.full((2*(size+2), 2*(size+2)), 0),\n",
    "            'active': True\n",
    "        },\n",
    "        {\n",
    "            'c': 'Purples', \n",
    "            'position': np.array([q+1, 3*q+1]), \n",
    "            'orientation': np.array([0, -1]), \n",
    "            'trail': np.full((2*(size+2), 2*(size+2)), 0),\n",
    "            'active': True\n",
    "        }\n",
    "    ]\n",
    "    \n",
    "\n",
    "    # Keep track of where the snakes have passed\n",
    "    matrix = np.full((size+2, size+2), False)\n",
    "    matrix[0, :] = True\n",
    "    matrix[:, 0] = True\n",
    "    matrix[-1, :] = True\n",
    "    matrix[:, -1] = True\n",
    "    \n",
    "    # Go over the bits\n",
    "    current_bit = 0\n",
    "    iteration = 0\n",
    "    \n",
    "    # While there are active snakes try it out\n",
    "    while any([snake['active'] for snake in snakes]):\n",
    "\n",
    "        # For each active snake\n",
    "        active_snakes = [snake for snake in snakes if snake['active']]\n",
    "        for i, snake in enumerate(active_snakes) :\n",
    "           \n",
    "            # Get the bit or exit\n",
    "            if current_bit >= len(bits):\n",
    "                return snakes\n",
    "            \n",
    "            bit = bits[current_bit]\n",
    "            \n",
    "            # Get the possible actions\n",
    "            possible_actions = [ action for action in actions \n",
    "                                if not matrix[ tuple(snake['position'] + action @ snake['orientation']) ] ]\n",
    "\n",
    "            if len(possible_actions) == 0:\n",
    "                snake['active'] = False\n",
    "                continue  # See if other snakes can still play\n",
    "            elif len(possible_actions) == 1:\n",
    "                action = possible_actions[0]\n",
    "            elif len(possible_actions) == 2:\n",
    "                action = possible_actions[int(bit)]\n",
    "            elif len(possible_actions) == 3:\n",
    "                offset = iteration % 2\n",
    "                action = possible_actions[(int(bit) + offset)]\n",
    "\n",
    "            # Update\n",
    "            current_bit += 1\n",
    "            snake['orientation'] = action @ snake['orientation']\n",
    "            prev_position = snake['position']\n",
    "            snake['position'] = snake['position'] + snake['orientation']\n",
    "\n",
    "            # Update boundaries where snakes have been\n",
    "            matrix[ tuple(snake['position']) ] = True\n",
    "\n",
    "            # Update the twice larger pretty image (so that there is space and it looks pretty)\n",
    "            snake['trail'][ tuple(prev_position + snake['position']) ] = 2 * iteration\n",
    "            snake['trail'][tuple(2 * snake['position']) ] = 2 * iteration + 1\n",
    "        \n",
    "        # Update iteration\n",
    "        iteration += 1\n",
    "\n",
    "    return snakes, current_bit, iteration"
   ]
  },
  {
   "cell_type": "markdown",
   "metadata": {},
   "source": [
    "Some code that generates the image at a certain frame/point in time:"
   ]
  },
  {
   "cell_type": "code",
   "execution_count": 4,
   "metadata": {},
   "outputs": [
    {
     "data": {
      "image/png": "[encoded data removed]",
      "text/plain": [
       "<PIL.Image.Image image mode=RGBA size=240x240 at 0x7F789867ECA0>"
      ]
     },
     "metadata": {},
     "output_type": "display_data"
    }
   ],
   "source": [
    "def generate_image(snakes, frame=np.inf, canvas_size = 44):\n",
    "\n",
    "    \n",
    "    # Define a transparant layer\n",
    "    transparent = np.uint8(np.broadcast_to(np.array([255, 255, 255, 0]), (canvas_size, canvas_size, 4)))\n",
    "    \n",
    "    # Define the bottom layer\n",
    "    composite = Image.new('RGBA', (canvas_size, canvas_size), (255,255,255,255))\n",
    "\n",
    "    # Draw each trail\n",
    "    for snake in snakes:\n",
    "        trail = snake['trail'] * (snake['trail'] <= frame)\n",
    "        color = cm.get_cmap(snake['c'])\n",
    "\n",
    "        picture = np.full(trail.shape, 0)\n",
    "\n",
    "        picture = np.uint8(color(trail / trail.max()) *255) * (trail > 0.)[:,:, np.newaxis]\n",
    "        df = np.where(trail[:, :, np.newaxis] > 0, np.uint8(color(trail / trail.max()) *255), transparent)\n",
    "        im = Image.fromarray(df)\n",
    "\n",
    "        composite = Image.alpha_composite(composite, im)\n",
    "\n",
    "    d = ImageDraw.Draw(composite)\n",
    "    d.rectangle([(0, 0), (canvas_size-1, canvas_size-1)], fill=None, outline=(0,0,0,255), width=1)\n",
    "    \n",
    "    return composite.resize((5 * canvas_size, 5 * canvas_size), Image.NEAREST)\n",
    "\n",
    "\n",
    "# Some settings\n",
    "seed = 0\n",
    "nr_bits = 500\n",
    "size = 22\n",
    "\n",
    "# Sizes of the canvas\n",
    "canvas_size=2*(2+size)\n",
    "canvas_size_xl = canvas_size * 5\n",
    "\n",
    "# Generate some random bits\n",
    "rng = default_rng(seed)\n",
    "bits = rng.random(nr_bits) < 0.5\n",
    "\n",
    "# Get the trails\n",
    "snakes, nr_generated, max_iteration = generate_trails(\n",
    "    size,\n",
    "    bits\n",
    ")\n",
    "\n",
    "# Display\n",
    "image = generate_image(snakes, frame=max_iteration, canvas_size=canvas_size)\n",
    "display(image)"
   ]
  },
  {
   "cell_type": "markdown",
   "metadata": {},
   "source": [
    "Finally we create a GIF image"
   ]
  },
  {
   "cell_type": "code",
   "execution_count": 5,
   "metadata": {},
   "outputs": [],
   "source": [
    "# Create a gif\n",
    "gif = Image.new('RGBA', (canvas_size_xl, canvas_size_xl))\n",
    "\n",
    "gif.save('animation.gif', \n",
    "         save_all=True, \n",
    "         append_images=[generate_image(snakes, frame=frame, canvas_size=canvas_size) for frame in range(2, max_iteration)],\n",
    "         duration=100, \n",
    "         loop=0)"
   ]
  }
 ],
 "metadata": {
  "kernelspec": {
   "display_name": "Python 3 (ipykernel)",
   "language": "python",
   "name": "python3"
  },
  "language_info": {
   "codemirror_mode": {
    "name": "ipython",
    "version": 3
   },
   "file_extension": ".py",
   "mimetype": "text/x-python",
   "name": "python",
   "nbconvert_exporter": "python",
   "pygments_lexer": "ipython3",
   "version": "3.8.5"
  }
 },
 "nbformat": 4,
 "nbformat_minor": 1
}